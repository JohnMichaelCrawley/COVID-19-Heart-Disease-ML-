{
 "cells": [
  {
   "cell_type": "code",
   "execution_count": 1,
   "id": "417faeb4-6986-4edd-b6ab-0cd5adef2367",
   "metadata": {},
   "outputs": [
    {
     "data": {
      "text/plain": [
       "'\\nResources Used: \\n* https://stackoverflow.com/a/66908486\\n* https://www.geeksforgeeks.org/visualize-data-from-csv-file-in-python\\n\\n\\n* https://pythonprogramming.net/loading-file-data-matplotlib-tutorial/\\n* https://www.kite.com/python/answers/how-to-plot-data-from-a-csv-file-in-python\\n* https://stackoverflow.com/questions/63040250/how-to-make-a-graph-plotting-monthly-data-over-many-years-in-pandas\\n\\n'"
      ]
     },
     "execution_count": 1,
     "metadata": {},
     "output_type": "execute_result"
    }
   ],
   "source": [
    "\"\"\"\n",
    "Created By:           John F.     \n",
    "Student Number:       x19141301 \n",
    "Student Email:        x19141301@student.ncirl.ie \n",
    "Created On:           02/12/2021 \n",
    "Last Modified:        30/12/2021  \n",
    "Data Source:          https://www.kaggle.com/imdevskp/corona-virus-report?select=worldometer_data.csv\n",
    "Description:\n",
    "This program is to read data from a CSV file, \n",
    "check for any null/empty values and fill them\n",
    "then to standardize the data for plotting and \n",
    "predicting. \n",
    "\"\"\"\n",
    "\n",
    "\"\"\"\n",
    "Resources Used: \n",
    "* https://stackoverflow.com/a/66908486\n",
    "* https://www.geeksforgeeks.org/visualize-data-from-csv-file-in-python\n",
    "\n",
    "\n",
    "* https://pythonprogramming.net/loading-file-data-matplotlib-tutorial/\n",
    "* https://www.kite.com/python/answers/how-to-plot-data-from-a-csv-file-in-python\n",
    "* https://stackoverflow.com/questions/63040250/how-to-make-a-graph-plotting-monthly-data-over-many-years-in-pandas\n",
    "\n",
    "\"\"\""
   ]
  },
  {
   "cell_type": "code",
   "execution_count": 2,
   "id": "7e905199-4591-4e32-819e-37a0ab891370",
   "metadata": {},
   "outputs": [
    {
     "name": "stdout",
     "output_type": "stream",
     "text": [
      "Date         0\n",
      "Confirmed    0\n",
      "Deaths       0\n",
      "Recovered    0\n",
      "Active       0\n",
      "dtype: int64\n"
     ]
    },
    {
     "data": {
      "text/html": [
       "<div>\n",
       "<style scoped>\n",
       "    .dataframe tbody tr th:only-of-type {\n",
       "        vertical-align: middle;\n",
       "    }\n",
       "\n",
       "    .dataframe tbody tr th {\n",
       "        vertical-align: top;\n",
       "    }\n",
       "\n",
       "    .dataframe thead th {\n",
       "        text-align: right;\n",
       "    }\n",
       "</style>\n",
       "<table border=\"1\" class=\"dataframe\">\n",
       "  <thead>\n",
       "    <tr style=\"text-align: right;\">\n",
       "      <th></th>\n",
       "      <th>Date</th>\n",
       "      <th>Confirmed</th>\n",
       "      <th>Deaths</th>\n",
       "      <th>Recovered</th>\n",
       "      <th>Active</th>\n",
       "    </tr>\n",
       "  </thead>\n",
       "  <tbody>\n",
       "    <tr>\n",
       "      <th>0</th>\n",
       "      <td>2020-01-22</td>\n",
       "      <td>0</td>\n",
       "      <td>0</td>\n",
       "      <td>0</td>\n",
       "      <td>0</td>\n",
       "    </tr>\n",
       "    <tr>\n",
       "      <th>1</th>\n",
       "      <td>2020-01-22</td>\n",
       "      <td>0</td>\n",
       "      <td>0</td>\n",
       "      <td>0</td>\n",
       "      <td>0</td>\n",
       "    </tr>\n",
       "    <tr>\n",
       "      <th>2</th>\n",
       "      <td>2020-01-22</td>\n",
       "      <td>0</td>\n",
       "      <td>0</td>\n",
       "      <td>0</td>\n",
       "      <td>0</td>\n",
       "    </tr>\n",
       "    <tr>\n",
       "      <th>3</th>\n",
       "      <td>2020-01-22</td>\n",
       "      <td>0</td>\n",
       "      <td>0</td>\n",
       "      <td>0</td>\n",
       "      <td>0</td>\n",
       "    </tr>\n",
       "    <tr>\n",
       "      <th>4</th>\n",
       "      <td>2020-01-22</td>\n",
       "      <td>0</td>\n",
       "      <td>0</td>\n",
       "      <td>0</td>\n",
       "      <td>0</td>\n",
       "    </tr>\n",
       "  </tbody>\n",
       "</table>\n",
       "</div>"
      ],
      "text/plain": [
       "         Date  Confirmed  Deaths  Recovered  Active\n",
       "0  2020-01-22          0       0          0       0\n",
       "1  2020-01-22          0       0          0       0\n",
       "2  2020-01-22          0       0          0       0\n",
       "3  2020-01-22          0       0          0       0\n",
       "4  2020-01-22          0       0          0       0"
      ]
     },
     "execution_count": 2,
     "metadata": {},
     "output_type": "execute_result"
    }
   ],
   "source": [
    "# IMPORT LIST #\n",
    "import pandas as pd                                   \n",
    "from pandas import DataFrame                          \n",
    "import matplotlib.pyplot as plt                       \n",
    "import numpy as np                                    \n",
    "from sklearn.preprocessing import StandardScaler      \n",
    "from sklearn import preprocessing                     \n",
    "from sklearn.datasets import make_blobs               \n",
    "from sklearn.model_selection import train_test_split  \n",
    "from sklearn.linear_model import LinearRegression  \n",
    "from sklearn.linear_model import LogisticRegression\n",
    "from sklearn import neighbors\n",
    "from sklearn.preprocessing import OneHotEncoder, LabelEncoder\n",
    "from sklearn.model_selection import learning_curve\n",
    "from sklearn.svm import SVC\n",
    "from sklearn.datasets import load_digits\n",
    "from sklearn.neighbors import KNeighborsClassifier\n",
    "from sklearn.model_selection import train_test_split\n",
    "from mlxtend.data import mnist_data\n",
    "from mlxtend.preprocessing import shuffle_arrays_unison\n",
    "from sklearn.neighbors import KNeighborsClassifier\n",
    "from mlxtend.plotting import plot_learning_curves\n",
    "import random\n",
    "from sklearn.ensemble._forest import RandomForestClassifier\n",
    "import seaborn as sns\n",
    "import sklearn.metrics as metricss\n",
    "from sklearn.metrics import r2_score\n",
    "\n",
    "#################################\n",
    "# DATA #\n",
    "#################################\n",
    "# Resource used for panda and dataframe: https://towardsdatascience.com/how-to-read-csv-file-using-pandas-ab1f5e7e7b58 #\n",
    "data = pd.read_csv('dataset/covid_19_clean_complete.csv')\n",
    "# Replace missing values with 0 values - Resource used: https://stackoverflow.com/a/44559011 #\n",
    "data.replace(np.nan, 0, inplace=True)\n",
    "# Columns #\n",
    "columns = ['Date', 'Confirmed', 'Deaths', 'Recovered', 'Active']\n",
    "\n",
    "# Dataframe the data #\n",
    "df = pd.DataFrame(data, columns=columns)\n",
    "#check for null values #\n",
    "print(df.isnull().sum())\n",
    "# Show the data #\n",
    "df.head()"
   ]
  },
  {
   "cell_type": "code",
   "execution_count": 2,
   "id": "f8e16ae3-22ab-4f83-aacd-af4e88bb56ae",
   "metadata": {},
   "outputs": [
    {
     "data": {
      "text/html": [
       "<div>\n",
       "<style scoped>\n",
       "    .dataframe tbody tr th:only-of-type {\n",
       "        vertical-align: middle;\n",
       "    }\n",
       "\n",
       "    .dataframe tbody tr th {\n",
       "        vertical-align: top;\n",
       "    }\n",
       "\n",
       "    .dataframe thead th {\n",
       "        text-align: right;\n",
       "    }\n",
       "</style>\n",
       "<table border=\"1\" class=\"dataframe\">\n",
       "  <thead>\n",
       "    <tr style=\"text-align: right;\">\n",
       "      <th></th>\n",
       "      <th>Confirmed</th>\n",
       "      <th>Deaths</th>\n",
       "      <th>Recovered</th>\n",
       "      <th>Active</th>\n",
       "    </tr>\n",
       "  </thead>\n",
       "  <tbody>\n",
       "    <tr>\n",
       "      <th>count</th>\n",
       "      <td>4.906800e+04</td>\n",
       "      <td>49068.000000</td>\n",
       "      <td>4.906800e+04</td>\n",
       "      <td>4.906800e+04</td>\n",
       "    </tr>\n",
       "    <tr>\n",
       "      <th>mean</th>\n",
       "      <td>1.688490e+04</td>\n",
       "      <td>884.179160</td>\n",
       "      <td>7.915713e+03</td>\n",
       "      <td>8.085012e+03</td>\n",
       "    </tr>\n",
       "    <tr>\n",
       "      <th>std</th>\n",
       "      <td>1.273002e+05</td>\n",
       "      <td>6313.584411</td>\n",
       "      <td>5.480092e+04</td>\n",
       "      <td>7.625890e+04</td>\n",
       "    </tr>\n",
       "    <tr>\n",
       "      <th>min</th>\n",
       "      <td>0.000000e+00</td>\n",
       "      <td>0.000000</td>\n",
       "      <td>0.000000e+00</td>\n",
       "      <td>-1.400000e+01</td>\n",
       "    </tr>\n",
       "    <tr>\n",
       "      <th>25%</th>\n",
       "      <td>4.000000e+00</td>\n",
       "      <td>0.000000</td>\n",
       "      <td>0.000000e+00</td>\n",
       "      <td>0.000000e+00</td>\n",
       "    </tr>\n",
       "    <tr>\n",
       "      <th>50%</th>\n",
       "      <td>1.680000e+02</td>\n",
       "      <td>2.000000</td>\n",
       "      <td>2.900000e+01</td>\n",
       "      <td>2.600000e+01</td>\n",
       "    </tr>\n",
       "    <tr>\n",
       "      <th>75%</th>\n",
       "      <td>1.518250e+03</td>\n",
       "      <td>30.000000</td>\n",
       "      <td>6.660000e+02</td>\n",
       "      <td>6.060000e+02</td>\n",
       "    </tr>\n",
       "    <tr>\n",
       "      <th>max</th>\n",
       "      <td>4.290259e+06</td>\n",
       "      <td>148011.000000</td>\n",
       "      <td>1.846641e+06</td>\n",
       "      <td>2.816444e+06</td>\n",
       "    </tr>\n",
       "  </tbody>\n",
       "</table>\n",
       "</div>"
      ],
      "text/plain": [
       "          Confirmed         Deaths     Recovered        Active\n",
       "count  4.906800e+04   49068.000000  4.906800e+04  4.906800e+04\n",
       "mean   1.688490e+04     884.179160  7.915713e+03  8.085012e+03\n",
       "std    1.273002e+05    6313.584411  5.480092e+04  7.625890e+04\n",
       "min    0.000000e+00       0.000000  0.000000e+00 -1.400000e+01\n",
       "25%    4.000000e+00       0.000000  0.000000e+00  0.000000e+00\n",
       "50%    1.680000e+02       2.000000  2.900000e+01  2.600000e+01\n",
       "75%    1.518250e+03      30.000000  6.660000e+02  6.060000e+02\n",
       "max    4.290259e+06  148011.000000  1.846641e+06  2.816444e+06"
      ]
     },
     "execution_count": 2,
     "metadata": {},
     "output_type": "execute_result"
    }
   ],
   "source": [
    "# Describe the dataframe #\n",
    "df.describe()"
   ]
  },
  {
   "cell_type": "code",
   "execution_count": 3,
   "id": "fa69f050-c1e3-4205-80b0-723e60085db9",
   "metadata": {},
   "outputs": [],
   "source": [
    "#################################\n",
    "# Categorical Data #\n",
    "#################################\n",
    "\n",
    "# Resource with help with LE: https://scikit-learn.org/stable/modules/generated/sklearn.preprocessing.LabelEncoder.html #\n",
    "le = preprocessing.LabelEncoder()\n",
    "le.fit([1])\n",
    "df['Confirmed']=le.fit_transform(df['Confirmed'])\n"
   ]
  },
  {
   "cell_type": "code",
   "execution_count": 4,
   "id": "3d0f8705-d94e-466a-a949-6a6736ff3c70",
   "metadata": {},
   "outputs": [
    {
     "data": {
      "text/html": [
       "<div>\n",
       "<style scoped>\n",
       "    .dataframe tbody tr th:only-of-type {\n",
       "        vertical-align: middle;\n",
       "    }\n",
       "\n",
       "    .dataframe tbody tr th {\n",
       "        vertical-align: top;\n",
       "    }\n",
       "\n",
       "    .dataframe thead th {\n",
       "        text-align: right;\n",
       "    }\n",
       "</style>\n",
       "<table border=\"1\" class=\"dataframe\">\n",
       "  <thead>\n",
       "    <tr style=\"text-align: right;\">\n",
       "      <th></th>\n",
       "      <th>Confirmed</th>\n",
       "      <th>Deaths</th>\n",
       "      <th>Recovered</th>\n",
       "      <th>Active</th>\n",
       "    </tr>\n",
       "  </thead>\n",
       "  <tbody>\n",
       "    <tr>\n",
       "      <th>count</th>\n",
       "      <td>4.906800e+04</td>\n",
       "      <td>4.906800e+04</td>\n",
       "      <td>4.906800e+04</td>\n",
       "      <td>4.906800e+04</td>\n",
       "    </tr>\n",
       "    <tr>\n",
       "      <th>mean</th>\n",
       "      <td>9.094681e-15</td>\n",
       "      <td>2.133379e-14</td>\n",
       "      <td>1.121670e-14</td>\n",
       "      <td>2.618173e-15</td>\n",
       "    </tr>\n",
       "    <tr>\n",
       "      <th>std</th>\n",
       "      <td>1.000010e+00</td>\n",
       "      <td>1.000010e+00</td>\n",
       "      <td>1.000010e+00</td>\n",
       "      <td>1.000010e+00</td>\n",
       "    </tr>\n",
       "    <tr>\n",
       "      <th>min</th>\n",
       "      <td>-1.326398e-01</td>\n",
       "      <td>-1.400454e-01</td>\n",
       "      <td>-1.444464e-01</td>\n",
       "      <td>-1.062052e-01</td>\n",
       "    </tr>\n",
       "    <tr>\n",
       "      <th>25%</th>\n",
       "      <td>-1.326084e-01</td>\n",
       "      <td>-1.400454e-01</td>\n",
       "      <td>-1.444464e-01</td>\n",
       "      <td>-1.060216e-01</td>\n",
       "    </tr>\n",
       "    <tr>\n",
       "      <th>50%</th>\n",
       "      <td>-1.313201e-01</td>\n",
       "      <td>-1.397286e-01</td>\n",
       "      <td>-1.439172e-01</td>\n",
       "      <td>-1.056807e-01</td>\n",
       "    </tr>\n",
       "    <tr>\n",
       "      <th>75%</th>\n",
       "      <td>-1.207132e-01</td>\n",
       "      <td>-1.352936e-01</td>\n",
       "      <td>-1.322932e-01</td>\n",
       "      <td>-9.807495e-02</td>\n",
       "    </tr>\n",
       "    <tr>\n",
       "      <th>max</th>\n",
       "      <td>3.356961e+01</td>\n",
       "      <td>2.330345e+01</td>\n",
       "      <td>3.355316e+01</td>\n",
       "      <td>3.682701e+01</td>\n",
       "    </tr>\n",
       "  </tbody>\n",
       "</table>\n",
       "</div>"
      ],
      "text/plain": [
       "          Confirmed        Deaths     Recovered        Active\n",
       "count  4.906800e+04  4.906800e+04  4.906800e+04  4.906800e+04\n",
       "mean   9.094681e-15  2.133379e-14  1.121670e-14  2.618173e-15\n",
       "std    1.000010e+00  1.000010e+00  1.000010e+00  1.000010e+00\n",
       "min   -1.326398e-01 -1.400454e-01 -1.444464e-01 -1.062052e-01\n",
       "25%   -1.326084e-01 -1.400454e-01 -1.444464e-01 -1.060216e-01\n",
       "50%   -1.313201e-01 -1.397286e-01 -1.439172e-01 -1.056807e-01\n",
       "75%   -1.207132e-01 -1.352936e-01 -1.322932e-01 -9.807495e-02\n",
       "max    3.356961e+01  2.330345e+01  3.355316e+01  3.682701e+01"
      ]
     },
     "execution_count": 4,
     "metadata": {},
     "output_type": "execute_result"
    }
   ],
   "source": [
    "#################################\n",
    "# STANDARDIZE THE DATA #\n",
    "#################################\n",
    "#list for cols to scale\n",
    "columns_to_scale = ['Confirmed','Deaths', 'Recovered', 'Active']\n",
    "# Create the Scaler object\n",
    "scaler = StandardScaler()\n",
    "# fit scaler #\n",
    "scaler.fit(data[columns_to_scale])\n",
    "# Fit confirmed and death cases to the scaler object #\n",
    "scaled_data = scaler.transform(data[columns_to_scale])\n",
    "scaled_DF = pd.DataFrame(scaled_data, columns=columns_to_scale)\n",
    "scaled_DF.head()\n",
    "scaled_DF.describe()"
   ]
  },
  {
   "cell_type": "code",
   "execution_count": 5,
   "id": "7cbf5d0e-4a3f-400d-99c3-d448a0f79a95",
   "metadata": {},
   "outputs": [
    {
     "data": {
      "text/plain": [
       "<AxesSubplot:>"
      ]
     },
     "execution_count": 5,
     "metadata": {},
     "output_type": "execute_result"
    },
    {
     "data": {
      "image/png": "[encoded data removed]",
      "text/plain": [
       "<Figure size 432x288 with 1 Axes>"
      ]
     },
     "metadata": {
      "needs_background": "light"
     },
     "output_type": "display_data"
    }
   ],
   "source": [
    "#################################\n",
    "# PLOT THE DATA:  Line chart #\n",
    "#################################\n",
    "# Source used: https://pythonprogramming.net/2D-Visualization-of-Pandas-data-with-Matplotlib-including-plotting-dates/ \n",
    "df = data\n",
    "df[['Confirmed','Active', 'Recovered', 'Deaths']].plot()"
   ]
  },
  {
   "cell_type": "code",
   "execution_count": 6,
   "id": "5b9ad2d2-729f-4590-bccc-fe9ac92cd00a",
   "metadata": {},
   "outputs": [
    {
     "data": {
      "image/png": "[encoded data removed]",
      "text/plain": [
       "<Figure size 432x288 with 1 Axes>"
      ]
     },
     "metadata": {
      "needs_background": "light"
     },
     "output_type": "display_data"
    }
   ],
   "source": [
    "#################################\n",
    "# PLOT THE DATA: Histogram  #\n",
    "#################################\n",
    "# Create the dataframe for the histogram #\n",
    "histo = pd.DataFrame(data, columns=['Confirmed', 'Active', 'Recovered', 'Deaths'])\n",
    "# Add up all confirmed and death cases #\n",
    "totalCases = histo['Confirmed'].sum()\n",
    "activeCases = histo['Active'].sum()\n",
    "recoveredCases = histo['Recovered'].sum()\n",
    "totalDeaths = histo['Deaths'].sum()\n",
    "# Plot the data in the histogram and show #\n",
    "plt.bar([0, 1, 2, 3], [totalCases, activeCases, recoveredCases, totalDeaths])\n",
    "plt.xlabel('confirmed, active, recovered and death cases From COVID-19')\n",
    "plt.show()"
   ]
  },
  {
   "cell_type": "code",
   "execution_count": 7,
   "id": "a974a659-50da-4fac-b383-8327644671e1",
   "metadata": {},
   "outputs": [
    {
     "data": {
      "image/png": "[encoded data removed]",
      "text/plain": [
       "<Figure size 432x288 with 1 Axes>"
      ]
     },
     "metadata": {},
     "output_type": "display_data"
    }
   ],
   "source": [
    "#################################\n",
    "# PLOT THE DATA: Pie chart  #\n",
    "#################################\n",
    "\n",
    "# Resource used for pie-chart: https://stackoverflow.com/a/62594058 #\n",
    "# Resource used for pie-chart: http://www.learningaboutelectronics.com/Articles/How-to-create-a-pie-chart-in-matplotlib-with-Python.php #\n",
    "# Create a dictionary #\n",
    "pieData = {'Confirmed': df['Confirmed'].sum(), \n",
    "           'Active': df['Active'].sum(),\n",
    "           'Recovered': df['Recovered'].sum(),\n",
    "           'Deaths': df['Deaths'].sum()\n",
    "          }\n",
    "# Create array #\n",
    "labels = []\n",
    "values = []\n",
    "# For loop to append items to the array #\n",
    "for x, y in pieData.items():\n",
    "    labels.append(x)\n",
    "    values.append(y)\n",
    "    \n",
    "# Plot #\n",
    "# Source used for white text: https://stackoverflow.com/a/54149203 #\n",
    "plt.pie(values, labels=labels, startangle=90, autopct='%1.1f%%', textprops={'color':\"b\"})\n",
    "# Plot the data #\n",
    "plt.axis('equal')\n",
    "plt.show()"
   ]
  },
  {
   "cell_type": "code",
   "execution_count": 8,
   "id": "e8f58e52-da8d-41d0-8cc8-c5557a710666",
   "metadata": {},
   "outputs": [],
   "source": [
    "#################################\n",
    "# Training and Test Data  #\n",
    "#################################\n",
    "# Source used: https://realpython.com/linear-regression-in-python/\n",
    "# Source used: https://www.freecodecamp.org/news/how-to-build-and-train-linear-and-logistic-regression-ml-models-in-python/\n",
    "from sklearn import datasets, linear_model\n",
    "from sklearn.metrics import mean_squared_error, r2_score\n",
    "from sklearn.model_selection import train_test_split\n",
    "from sklearn import metrics\n",
    "\n",
    "# Store the data for x and y #\n",
    "x = data[['Confirmed', 'Deaths']]\n",
    "y = data['Active']\n",
    "# Split #\n",
    "x_train, x_test, y_train, y_test = train_test_split(x, y, test_size = 0.3)\n",
    "\n",
    "# Create linear regression object\n",
    "model = LinearRegression()\n",
    "model.fit(x_train, y_train)\n",
    "\n",
    "# Source: https://datatofish.com/line-chart-python-matplotlib/ #\n",
    "predictions = model.predict(x_test)\n"
   ]
  },
  {
   "cell_type": "code",
   "execution_count": 9,
   "id": "a4ed061a-7f69-419a-9899-f1d0be184f22",
   "metadata": {},
   "outputs": [
    {
     "data": {
      "text/plain": [
       "Text(0.5, 1.0, 'Linear Regression Predictions:')"
      ]
     },
     "execution_count": 9,
     "metadata": {},
     "output_type": "execute_result"
    },
    {
     "data": {
      "image/png": "[encoded data removed]",
      "text/plain": [
       "<Figure size 432x288 with 1 Axes>"
      ]
     },
     "metadata": {
      "needs_background": "light"
     },
     "output_type": "display_data"
    }
   ],
   "source": [
    "#################################\n",
    "# Plot the prediction  #\n",
    "#################################\n",
    "# PLOT THE PREDICTION IN A SCATTER DIAGRAM #\n",
    "plt.scatter(y_test, predictions)\n",
    "plt.title('Linear Regression Predictions:')\n"
   ]
  },
  {
   "cell_type": "code",
   "execution_count": 10,
   "id": "72f446f1-6d84-46da-81b2-622929627ae9",
   "metadata": {},
   "outputs": [
    {
     "data": {
      "text/plain": [
       "(array([2.000e+00, 2.000e+00, 2.000e+00, 3.000e+00, 1.140e+02, 1.454e+04,\n",
       "        2.900e+01, 2.100e+01, 3.000e+00, 5.000e+00]),\n",
       " array([-703685.30755845, -582230.89078032, -460776.47400219,\n",
       "        -339322.05722407, -217867.64044594,  -96413.22366781,\n",
       "          25041.19311031,  146495.60988844,  267950.02666657,\n",
       "         389404.44344469,  510858.86022282]),\n",
       " <BarContainer object of 10 artists>)"
      ]
     },
     "execution_count": 10,
     "metadata": {},
     "output_type": "execute_result"
    },
    {
     "data": {
      "image/png": "[encoded data removed]",
      "text/plain": [
       "<Figure size 432x288 with 1 Axes>"
      ]
     },
     "metadata": {
      "needs_background": "light"
     },
     "output_type": "display_data"
    }
   ],
   "source": [
    "#################################\n",
    "# Plot a histogram  #\n",
    "#################################\n",
    "plt.hist(y_test - predictions)"
   ]
  },
  {
   "cell_type": "code",
   "execution_count": 14,
   "id": "55793346-beb9-420b-ade0-5813c9b8dec5",
   "metadata": {},
   "outputs": [
    {
     "name": "stdout",
     "output_type": "stream",
     "text": [
      "   Coefficients:  Mean Absolute Error:  Mean Squared Error:  R-Squared\n",
      "0       0.464076           4850.035932         4.860681e+08   0.918315\n",
      "1       2.144425           4850.035932         4.860681e+08   0.918315\n"
     ]
    }
   ],
   "source": [
    "#################################\n",
    "# Plot a dataframe  #\n",
    "#################################\n",
    "# Source used: https://pandas.pydata.org/docs/reference/api/pandas.DataFrame.from_dict.html #\n",
    "from sklearn.metrics import r2_score\n",
    "\n",
    "\n",
    "dic = {\n",
    "    'Coefficients:': model.coef_, \n",
    "    'Mean Absolute Error:': metrics.mean_absolute_error(y_test, predictions),\n",
    "    'Mean Squared Error:': metrics.mean_squared_error(y_test, predictions),\n",
    "    'R-Squared': r2_score(y_test, predictions   )\n",
    "}\n",
    "#Store values in a df and print #\n",
    "lrPD = DataFrame.from_dict(dic)\n",
    "print(lrPD)\n"
   ]
  },
  {
   "cell_type": "code",
   "execution_count": 12,
   "id": "95483ba9-194a-43a5-8965-9954709ab317",
   "metadata": {},
   "outputs": [],
   "source": [
    "#################################\n",
    "# Dataset #2: Heart Disease  #\n",
    "#################################\n",
    "# Data source: https://www.kaggle.com/alexteboul/heart-disease-health-indicators-dataset #\n",
    "heartData = pd.read_csv('dataset/heart_disease_health_indicators_BRFSS2015.csv')\n",
    "\n"
   ]
  },
  {
   "cell_type": "code",
   "execution_count": 4,
   "id": "f308d64e-87f3-4290-bde6-7941f7edbe59",
   "metadata": {},
   "outputs": [
    {
     "data": {
      "text/html": [
       "<div>\n",
       "<style scoped>\n",
       "    .dataframe tbody tr th:only-of-type {\n",
       "        vertical-align: middle;\n",
       "    }\n",
       "\n",
       "    .dataframe tbody tr th {\n",
       "        vertical-align: top;\n",
       "    }\n",
       "\n",
       "    .dataframe thead th {\n",
       "        text-align: right;\n",
       "    }\n",
       "</style>\n",
       "<table border=\"1\" class=\"dataframe\">\n",
       "  <thead>\n",
       "    <tr style=\"text-align: right;\">\n",
       "      <th></th>\n",
       "      <th>HeartDiseaseorAttack</th>\n",
       "      <th>HighChol</th>\n",
       "      <th>Stroke</th>\n",
       "      <th>Smoker</th>\n",
       "      <th>Diabetes</th>\n",
       "    </tr>\n",
       "  </thead>\n",
       "  <tbody>\n",
       "    <tr>\n",
       "      <th>count</th>\n",
       "      <td>2.536800e+05</td>\n",
       "      <td>2.536800e+05</td>\n",
       "      <td>2.536800e+05</td>\n",
       "      <td>2.536800e+05</td>\n",
       "      <td>2.536800e+05</td>\n",
       "    </tr>\n",
       "    <tr>\n",
       "      <th>mean</th>\n",
       "      <td>-8.808645e-15</td>\n",
       "      <td>-1.106757e-14</td>\n",
       "      <td>1.325996e-14</td>\n",
       "      <td>6.702429e-15</td>\n",
       "      <td>-1.978033e-14</td>\n",
       "    </tr>\n",
       "    <tr>\n",
       "      <th>std</th>\n",
       "      <td>1.000002e+00</td>\n",
       "      <td>1.000002e+00</td>\n",
       "      <td>1.000002e+00</td>\n",
       "      <td>1.000002e+00</td>\n",
       "      <td>1.000002e+00</td>\n",
       "    </tr>\n",
       "    <tr>\n",
       "      <th>min</th>\n",
       "      <td>-3.224576e-01</td>\n",
       "      <td>-8.581816e-01</td>\n",
       "      <td>-2.056365e-01</td>\n",
       "      <td>-8.921186e-01</td>\n",
       "      <td>-4.252922e-01</td>\n",
       "    </tr>\n",
       "    <tr>\n",
       "      <th>25%</th>\n",
       "      <td>-3.224576e-01</td>\n",
       "      <td>-8.581816e-01</td>\n",
       "      <td>-2.056365e-01</td>\n",
       "      <td>-8.921186e-01</td>\n",
       "      <td>-4.252922e-01</td>\n",
       "    </tr>\n",
       "    <tr>\n",
       "      <th>50%</th>\n",
       "      <td>-3.224576e-01</td>\n",
       "      <td>-8.581816e-01</td>\n",
       "      <td>-2.056365e-01</td>\n",
       "      <td>-8.921186e-01</td>\n",
       "      <td>-4.252922e-01</td>\n",
       "    </tr>\n",
       "    <tr>\n",
       "      <th>75%</th>\n",
       "      <td>-3.224576e-01</td>\n",
       "      <td>1.165254e+00</td>\n",
       "      <td>-2.056365e-01</td>\n",
       "      <td>1.120927e+00</td>\n",
       "      <td>-4.252922e-01</td>\n",
       "    </tr>\n",
       "    <tr>\n",
       "      <th>max</th>\n",
       "      <td>3.101183e+00</td>\n",
       "      <td>1.165254e+00</td>\n",
       "      <td>4.862949e+00</td>\n",
       "      <td>1.120927e+00</td>\n",
       "      <td>2.439387e+00</td>\n",
       "    </tr>\n",
       "  </tbody>\n",
       "</table>\n",
       "</div>"
      ],
      "text/plain": [
       "       HeartDiseaseorAttack      HighChol        Stroke        Smoker  \\\n",
       "count          2.536800e+05  2.536800e+05  2.536800e+05  2.536800e+05   \n",
       "mean          -8.808645e-15 -1.106757e-14  1.325996e-14  6.702429e-15   \n",
       "std            1.000002e+00  1.000002e+00  1.000002e+00  1.000002e+00   \n",
       "min           -3.224576e-01 -8.581816e-01 -2.056365e-01 -8.921186e-01   \n",
       "25%           -3.224576e-01 -8.581816e-01 -2.056365e-01 -8.921186e-01   \n",
       "50%           -3.224576e-01 -8.581816e-01 -2.056365e-01 -8.921186e-01   \n",
       "75%           -3.224576e-01  1.165254e+00 -2.056365e-01  1.120927e+00   \n",
       "max            3.101183e+00  1.165254e+00  4.862949e+00  1.120927e+00   \n",
       "\n",
       "           Diabetes  \n",
       "count  2.536800e+05  \n",
       "mean  -1.978033e-14  \n",
       "std    1.000002e+00  \n",
       "min   -4.252922e-01  \n",
       "25%   -4.252922e-01  \n",
       "50%   -4.252922e-01  \n",
       "75%   -4.252922e-01  \n",
       "max    2.439387e+00  "
      ]
     },
     "execution_count": 4,
     "metadata": {},
     "output_type": "execute_result"
    }
   ],
   "source": [
    "#################################\n",
    "# STANDARDIZE THE DATA #\n",
    "#################################\n",
    "#list for cols to scale\n",
    "columns_to_scale = ['HeartDiseaseorAttack','HighChol', 'Stroke', 'Smoker', 'Diabetes']\n",
    "# Create the Scaler object\n",
    "scaler = StandardScaler()\n",
    "# fit scaler #\n",
    "scaler.fit(heartData[columns_to_scale])\n",
    "# Fit confirmed and death cases to the scaler object #\n",
    "scaled_data = scaler.transform(heartData[columns_to_scale])\n",
    "scaled_DF = pd.DataFrame(scaled_data, columns=columns_to_scale)\n",
    "scaled_DF.head()\n",
    "scaled_DF.describe()\n",
    "\n",
    "\n"
   ]
  },
  {
   "cell_type": "code",
   "execution_count": 5,
   "id": "a0f3bd4a-9a39-4000-8157-23fecaac5181",
   "metadata": {},
   "outputs": [
    {
     "data": {
      "image/png": "[encoded data removed]",
      "text/plain": [
       "<Figure size 432x288 with 1 Axes>"
      ]
     },
     "metadata": {},
     "output_type": "display_data"
    }
   ],
   "source": [
    "#################################\n",
    "# PIE CHART #\n",
    "#################################\n",
    "pieData = {'Heart Disease or Attack': heartData['HeartDiseaseorAttack'].sum(), \n",
    "           'High Chol': heartData['HighChol'].sum(),\n",
    "           'Stroke': heartData['Stroke'].sum(),\n",
    "           'Smoker': heartData['Smoker'].sum(),\n",
    "           'Diabetes':heartData['Diabetes'].sum()\n",
    "          }\n",
    "# Create array #\n",
    "labels = []\n",
    "values = []\n",
    "# For loop to append items to the array #\n",
    "for x, y in pieData.items():\n",
    "    labels.append(x)\n",
    "    values.append(y)\n",
    "    \n",
    "# Plot #\n",
    "# Source used for white text: https://stackoverflow.com/a/54149203 #\n",
    "plt.pie(values, labels=labels, startangle=90, autopct='%1.1f%%', textprops={'color':\"w\"})\n",
    "# Plot the data #\n",
    "plt.axis('equal')\n",
    "plt.show()"
   ]
  },
  {
   "cell_type": "code",
   "execution_count": 6,
   "id": "b91102ec-e7ed-4cee-9520-ac479317ca0c",
   "metadata": {},
   "outputs": [
    {
     "name": "stdout",
     "output_type": "stream",
     "text": [
      "KNN Score # 1 =  0.8948938294964786\n",
      "KNN Score # 2 =  0.9598312835067802\n",
      "KNN Score # 3 =  0.8948938294964786\n",
      "KNN Score # 4 =  0.9598312835067802\n",
      "KNN Score # 5 =  0.8948938294964786\n",
      "KNN Score # 6 =  0.9598312835067802\n",
      "KNN Score # 7 =  0.9598312835067802\n",
      "KNN Score # 8 =  0.9598312835067802\n",
      "KNN Score # 9 =  0.9598312835067802\n"
     ]
    }
   ],
   "source": [
    "#################################\n",
    "# KNN #\n",
    "#################################\n",
    "# Source used: https://www.geeksforgeeks.org/k-nearest-neighbor-algorithm-in-python/ #\n",
    "\"\"\"\n",
    "Store data in X and Y, X being the heart disease or heart attack \n",
    "and Y being a stroke\n",
    "\"\"\"\n",
    "X = heartData[['HeartDiseaseorAttack']]\n",
    "y = heartData['Stroke']\n",
    "# Split the X and Y into training and testing #\n",
    "X_train, X_test, y_train, y_test = train_test_split(X, y, test_size = 0.3, random_state=100)\n",
    "# Source used for loop: https://www.w3schools.com/python/python_for_loops.asp #\n",
    "# https://www.tutorialspoint.com/python/python_loop_control.htm\n",
    "\"\"\"\n",
    "Loop through a range of 10 loops, \n",
    "if the i value contains, 0 then continue\n",
    "to the next loop which creates the KNN algorithm\n",
    "fits and trains it and prints out multiple ranges of KNN\n",
    "\"\"\"\n",
    "for i in range(10):\n",
    "    if i == 0:\n",
    "        continue\n",
    "    else:\n",
    "        knn = KNeighborsClassifier(n_neighbors = i)\n",
    "        knn.fit(X_train, y_train)\n",
    "        print('KNN Score #', i, '= ', knn.score(X_test, y_test)) "
   ]
  },
  {
   "cell_type": "code",
   "execution_count": 8,
   "id": "ec191eae-00cd-42a1-b37c-7cdb7d060afa",
   "metadata": {},
   "outputs": [
    {
     "name": "stdout",
     "output_type": "stream",
     "text": [
      "[0. 0. 0. ... 0. 0. 0.]\n"
     ]
    }
   ],
   "source": [
    "#################################\n",
    "# Logistic Regression #\n",
    "#################################\n",
    "\"\"\"\n",
    "Source/s used:\n",
    "http://blairhudson.com/blog/posts/introduction-to-classification-using-logistic-regression-with-scikit-learn/\n",
    "https://scikit-learn.org/stable/modules/generated/sklearn.linear_model.LogisticRegression.html\n",
    "https://towardsdatascience.com/logistic-regression-using-python-sklearn-numpy-mnist-handwriting-recognition-matplotlib-a6b31e2b166a\n",
    "\"\"\"\n",
    "X = heartData[['HeartDiseaseorAttack']]\n",
    "y = heartData['Stroke']\n",
    "# Split the X and Y into training and testing #\n",
    "X_train, X_test, y_train, y_test = train_test_split(X, y, train_size=0.75, test_size = 0.25, random_state=0)\n",
    "\n",
    "# Declare log' reg' #\n",
    "log_reg = LogisticRegression()\n",
    "# fit the model #\n",
    "log_reg.fit(X_train, y_train)\n",
    "log_reg.score(X_test, y_test)\n",
    "# Get some predictions #\n",
    "prediction = log_reg.predict(X_train)\n",
    "# Print a prediction #\n",
    "print(prediction)\n"
   ]
  },
  {
   "cell_type": "code",
   "execution_count": 62,
   "id": "7dc21e75-fba2-4eb7-aa95-205337f414e2",
   "metadata": {},
   "outputs": [
    {
     "data": {
      "text/plain": [
       "253680"
      ]
     },
     "execution_count": 62,
     "metadata": {},
     "output_type": "execute_result"
    }
   ],
   "source": [
    "#################################\n",
    "# Plot a dataframe for Log Reg #\n",
    "#################################\n",
    "\"\"\"\n",
    "NOTE:\n",
    "\n",
    "I tried to get some stats for the log reg' but kept running into problems\n",
    "\"\"\"\n",
    "# Source used: https://pandas.pydata.org/docs/reference/api/pandas.DataFrame.from_dict.html # \n",
    "import sklearn.metrics as metrics\n",
    "\n",
    "\n",
    "# Reshape the vars #\n",
    "X.shape[0]\n",
    "y.shape[0]\n",
    "\n",
    "# Create some variables for measurement of \n",
    "#co = log_reg.coef_\n",
    "#mae = metrics.mean_absolute_error(y_test, prediction)\n",
    "\n",
    "\n",
    "#dic = {\n",
    " #   'Coefficients:': co, \n",
    "  #  'Mean Absolute Error:': metrics.mean_absolute_error(y_test[0], prediction),\n",
    "   # 'Mean Squared Error:': metrics.mean_squared_error(y_test[0], prediction),\n",
    "    #'R-Squared': r2_score(y_test[0], predictions   )\n",
    "#}\n",
    "#Store values in a df and print #\n",
    "#lrPD = DataFrame.from_dict(dic)\n",
    "#print(lrPD)\n",
    "\n",
    "\n",
    "\n"
   ]
  },
  {
   "cell_type": "code",
   "execution_count": null,
   "id": "814e3ec3-4a97-4bd7-94c4-4c6e3989ca0b",
   "metadata": {},
   "outputs": [],
   "source": []
  },
  {
   "cell_type": "code",
   "execution_count": null,
   "id": "3f1a48a2-02ec-413e-849e-38d2f11c2ef1",
   "metadata": {},
   "outputs": [],
   "source": []
  }
 ],
 "metadata": {
  "kernelspec": {
   "display_name": "Python 3 (ipykernel)",
   "language": "python",
   "name": "python3"
  },
  "language_info": {
   "codemirror_mode": {
    "name": "ipython",
    "version": 3
   },
   "file_extension": ".py",
   "mimetype": "text/x-python",
   "name": "python",
   "nbconvert_exporter": "python",
   "pygments_lexer": "ipython3",
   "version": "3.9.7"
  }
 },
 "nbformat": 4,
 "nbformat_minor": 5
}
